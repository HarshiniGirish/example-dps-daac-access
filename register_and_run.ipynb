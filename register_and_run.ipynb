{
 "cells": [
  {
   "cell_type": "code",
   "execution_count": null,
   "id": "622d9ede-9048-442d-9d08-eda5d6fa71a4",
   "metadata": {
    "tags": []
   },
   "outputs": [],
   "source": [
    "import yaml\n",
    "from maap.maap import MAAP\n",
    "maap = MAAP()"
   ]
  },
  {
   "cell_type": "code",
   "execution_count": null,
   "id": "3c837e46-207d-432a-ade7-9ab0f0b210f8",
   "metadata": {
    "tags": []
   },
   "outputs": [],
   "source": [
    "register_algo_result = maap.register_algorithm_from_yaml_file('algorithm_config.yml')"
   ]
  },
  {
   "cell_type": "code",
   "execution_count": null,
   "id": "82fec75d-a38d-4c7d-84a6-17ac99782b4a",
   "metadata": {
    "tags": []
   },
   "outputs": [],
   "source": [
    "register_job_result = maap.submitJob(**yaml.full_load(open('job_config.yml')))"
   ]
  }
 ],
 "metadata": {
  "kernelspec": {
   "display_name": "Python 3 (ipykernel)",
   "language": "python",
   "name": "python3"
  },
  "language_info": {
   "codemirror_mode": {
    "name": "ipython",
    "version": 3
   },
   "file_extension": ".py",
   "mimetype": "text/x-python",
   "name": "python",
   "nbconvert_exporter": "python",
   "pygments_lexer": "ipython3",
   "version": "3.10.12"
  }
 },
 "nbformat": 4,
 "nbformat_minor": 5
}
